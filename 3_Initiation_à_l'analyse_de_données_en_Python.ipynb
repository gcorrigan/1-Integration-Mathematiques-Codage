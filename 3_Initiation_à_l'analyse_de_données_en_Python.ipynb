{
  "nbformat": 4,
  "nbformat_minor": 0,
  "metadata": {
    "colab": {
      "provenance": [],
      "collapsed_sections": [
        "c-TZV7fp1KwL",
        "j3C-N7VABJWe",
        "_cqFaLDaDZT9",
        "6j4shozPMAKP",
        "-ZdXMTY26l-W"
      ],
      "include_colab_link": true
    },
    "kernelspec": {
      "name": "python3",
      "display_name": "Python 3"
    },
    "language_info": {
      "name": "python"
    }
  },
  "cells": [
    {
      "cell_type": "markdown",
      "metadata": {
        "id": "view-in-github",
        "colab_type": "text"
      },
      "source": [
        "<a href=\"https://colab.research.google.com/github/gcorrigan/Integration-Mathematiques-Codage/blob/main/3_Initiation_%C3%A0_l'analyse_de_donn%C3%A9es_en_Python.ipynb\" target=\"_parent\"><img src=\"https://colab.research.google.com/assets/colab-badge.svg\" alt=\"Open In Colab\"/></a>"
      ]
    },
    {
      "cell_type": "markdown",
      "source": [
        "# Initiation à l'analyse de données en Python <img src=\"https://i.imgur.com/qUSxW7s.png\" height=45 width=45 align=right>\n",
        "\n",
        "## Les objectifs d’apprentissage\n",
        "- Utiliser Python pour explorer un jeu de données et effectuer une analyse statistique sur des données à une ou deux variables\n",
        "- Comprendre comment Python peut être utilisé pour effectuer une analyse de données\n",
        "\n",
        "## Les critères de réussite\n",
        "\n",
        "Je sais que je réussis quand :\n",
        "- Je sais utiliser le code Python pour générer des boîtes à moustaches (alias *boxplot*) et des nuages de points (alias des graphiques de dispersion ou *scatterplot*)\n",
        "- Je sais utiliser le code Python pour calculer le minimum, le maximum, la moyenne, la médiane et les quartiles d'un jeu de données \n",
        "- Je sais analyser la sortie du code pour évaluer sa signification statistique et mathématique\n",
        "- Je sais modifier le code pour effectuer une analyse statistique\n",
        "\n",
        "\n",
        "\n",
        "---"
      ],
      "metadata": {
        "id": "c-TZV7fp1KwL"
      }
    },
    {
      "cell_type": "markdown",
      "source": [
        "# Les feuilles de calcul <img src=\"https://1000logos.net/wp-content/uploads/2017/03/McDonalds-logo.png\" height=115 width=200 align=right>\n",
        "\n",
        "Dans cette activité, nous travaillerons avec des données nutritionnelles liées aux aliments du déjeuner disponibles aux restaurants McDonald's. Les données que nous utiliserons sont stockées dans une **feuille de calcul**. Une feuille de calcul est un tableau à deux dimensions de lignes et de colonnes contenant des données organisées. \n",
        "\n",
        "<img src=\"https://i.imgur.com/ERyR1QB.png\" width=800>\n",
        "\n",
        "Le jeu de données comprend les aliments du déjeuner servis chez McDonald's. La première colonne contient les noms des éléments. Les autres colonnes contiennent des informations nutritionnelles pour chaque élément : taille de la portion, calories, total lipides et protéines.\n",
        "\n",
        "Cliquez sur <a href=\"https://docs.google.com/spreadsheets/d/1jztPCJmKDJkG01F4MhjSlQ6dSRmPh7cJ0fE57dsDauc/edit#gid=1733379091\">feuille de calcul</a> pour voir le jeu de données. \n",
        "\n",
        "En utilisant Python, nous traiterons et analyserons cet jeu de données en effectuant des calculs statistiques et en affichant des graphiques.\n",
        "\n",
        "\n",
        "\n",
        "---\n",
        "\n"
      ],
      "metadata": {
        "id": "v-lVXq_c0YV0"
      }
    },
    {
      "cell_type": "markdown",
      "source": [
        "## La moyenne et la médiane\n",
        "\n",
        "*La moyenne* et *la médiane* sont deux mesures statistique utilisées pour représenter une valeur typique ou centrale d'un jeu de données.  \n",
        "\n",
        "Bien qu'elles aient un objectif similaire, elles ont des façons différentes de produire un nombre.\n",
        "\n",
        "**Quel est le processus de calcul de la moyenne ?**\n",
        "\n",
        "La moyenne est calculée en additionnant toutes les valeurs dans un jeu de données et en divisant la somme par le nombre total de valeurs. Cela donne un nombre qui représente la valeur moyenne de toutes les données. \n",
        "\n",
        "\n",
        "**Quel est le processus de calcul de la médiane ?**\n",
        "\n",
        "La médiane, quant à elle, est la valeur qui se trouve exactement au milieu d'un jeu de données trié par ordre croissant ou décroissant. Cela signifie que 50% des valeurs sont supérieures à la médiane et 50% sont inférieures.\n",
        "\n",
        "---"
      ],
      "metadata": {
        "id": "DTXWan4_yWH0"
      }
    },
    {
      "cell_type": "markdown",
      "source": [
        "Exécutez le bloc de code ci-dessous.\n",
        "\n",
        "Les commandes Python ```import pandas as pd ``` et ``` import numpy as np```\n",
        "importeront du code pour nous aider à effectuer **une analyse de données** sur notre jeu de données. L'analyse de données peut inclure la recherche de statistiques de base des données telles que la moyenne et la médiane, ainsi que la création de graphiques et de tableaux pour représenter nos données.\n"
      ],
      "metadata": {
        "id": "NsyP-IjQ2JR1"
      }
    },
    {
      "cell_type": "code",
      "execution_count": null,
      "metadata": {
        "id": "gJ-OJ6yp08wF"
      },
      "outputs": [],
      "source": [
        "import pandas as pd\n",
        "import numpy as np"
      ]
    },
    {
      "cell_type": "markdown",
      "source": [
        "Nous trouverons le nombre moyen et médian de calories parmi les aliments du déjeuner chez McDonald's. Exécutez le code ci-dessous pour trouver ces valeurs :"
      ],
      "metadata": {
        "id": "eHf8TcqD5SB_"
      }
    },
    {
      "cell_type": "code",
      "source": [
        "donnée = pd.read_csv(\"https://github.com/coding-integration/Integration-Mathematiques-Codage/main/Menu%20d%C3%A9jeuner%20McDonald's%20-%20D%C3%A9jeuner.csv\").dropna() # ouvrir notre jeu de données\n",
        "moyenne = donnée[\"Calories\"].mean() #calculer la moyenne de la colonne 'Calories'\n",
        "médian = donnée[\"Calories\"].median() #calculer la médian de la colonne 'Calories'\n",
        "\n",
        "\n",
        "\n",
        "print(\"La moyenne des calories est\", moyenne)\n",
        "print(\"La médiane des calories est\", médian)"
      ],
      "metadata": {
        "id": "yIlgvvbY5g9w",
        "colab": {
          "base_uri": "https://localhost:8080/"
        },
        "outputId": "348c5a50-02b4-472e-fa25-46eaf0cda109"
      },
      "execution_count": null,
      "outputs": [
        {
          "output_type": "stream",
          "name": "stdout",
          "text": [
            "La moyenne des calories est 526.6666666666666\n",
            "La médiane des calories est 470.0\n"
          ]
        }
      ]
    },
    {
      "cell_type": "markdown",
      "source": [
        "---\n",
        "<img src=\"https://www.eatthis.com/wp-content/uploads/sites/4/2019/08/best-worst-mcdonalds.jpg?quality=82&strip=1\" height=200 width=250 align=right>\n",
        "\n",
        "# Boîtes à moustaches\n",
        "\n",
        "L'une des façons dont nous pouvons visualiser la distribution des données est avec une boîte à moustaches (également connu sous le nom *boxplot*). Une boîte à moustaches montrera les valeurs minimales et maximales ainsi que les quartiles des données. Mais d'abord, nous calculerons ces valeurs en utilisant Python.\n",
        "\n",
        "Exécutez le code ci-dessous pour trouver le nombre minimum et maximum (le plus bas et le plus élevé) de calories parmi tous les éléments du menu McDonald's pour le déjeuner.\n",
        "\n"
      ],
      "metadata": {
        "id": "9wIUHwLT7259"
      }
    },
    {
      "cell_type": "code",
      "source": [
        "minimum = donnée[\"Calories\"].min()\n",
        "\n",
        "# utilisez la valeur minimale pour trouver l'élément avec le moins de calories\n",
        "minÉlément = donnée.loc[data[\"Calories\"] == minimum][\"Élément\"].values[0]\n",
        "\n",
        "maximum = donnée[\"Calories\"].max()\n",
        "\n",
        "# utilisez la valeur maximale pour trouver l'élément avec le plus de calories\n",
        "maxÉlément = donnée.loc[data[\"Calories\"] == maximum][\"Élément\"].values[0]\n",
        "\n",
        "print(\"L'élément ayant le moins de calories est le\",minÉlément,\"avec\",minimum,\"calories\")\n",
        "print(\"L'élément ayant le plus de calories est le\",maxÉlément,\"avec\",maximum,\"calories\")"
      ],
      "metadata": {
        "colab": {
          "base_uri": "https://localhost:8080/"
        },
        "id": "fSHTPxUM86yB",
        "outputId": "d7c73ae7-921d-4746-d836-26af0ae4ca71"
      },
      "execution_count": null,
      "outputs": [
        {
          "output_type": "stream",
          "name": "stdout",
          "text": [
            "L'élément ayant le moins de calories est le Hash Brown avec 150.0 calories\n",
            "L'élément ayant le plus de calories est le Big Breakfast with Hotcakes (Large Biscuit) avec 1150.0 calories\n"
          ]
        }
      ]
    },
    {
      "cell_type": "markdown",
      "source": [
        "## Les quartiles\n",
        "\n",
        "Rappel : **Les quartiles** divisent les données en 4 parties, chacune contenant 25% des données. Pour diviser les données, il faut les ranger dans l'ordre et calculer 3 valeurs (Q1, Q2 et Q3). Le calcul de ces valeurs nous permettra d'en apprendre davantage sur les données.\n",
        "\n",
        "Exécutez le code ci-dessous pour calculer les quartiles Q1, Q2 et Q3."
      ],
      "metadata": {
        "id": "j3C-N7VABJWe"
      }
    },
    {
      "cell_type": "code",
      "source": [
        "Q1 = donnée[\"Calories\"].quantile(0.25)\n",
        "Q2 = donnée[\"Calories\"].quantile(0.5)\n",
        "Q3 = donnée[\"Calories\"].quantile(0.75)\n",
        "\n",
        "print(\"Q1:\",Q1)\n",
        "print(\"Q2:\",Q2)\n",
        "print(\"Q3:\",Q3)"
      ],
      "metadata": {
        "id": "LbtKxv0pBGmE",
        "colab": {
          "base_uri": "https://localhost:8080/"
        },
        "outputId": "957bbd2c-593d-47e7-c079-c31a384baa2f"
      },
      "execution_count": null,
      "outputs": [
        {
          "output_type": "stream",
          "name": "stdout",
          "text": [
            "Q1: 410.0\n",
            "Q2: 470.0\n",
            "Q3: 570.0\n"
          ]
        }
      ]
    },
    {
      "cell_type": "markdown",
      "source": [
        "### Répondez aux questions :\n",
        "1. Que nous disent les valeurs Q1 et Q3 ?\n",
        "2. Quel est l'autre nom de Q2 ?\n",
        "\n"
      ],
      "metadata": {
        "id": "_cqFaLDaDZT9"
      }
    },
    {
      "cell_type": "markdown",
      "source": [
        "Double-cliquez **ici** pour entrer vos réponses."
      ],
      "metadata": {
        "id": "TWdEUumbDqiR"
      }
    },
    {
      "cell_type": "markdown",
      "source": [
        "## Génération d'une boîte à moustaches\n",
        "\n",
        "Maintenant que nous avons calculé les valeurs, en utilisant Python, nous allons générer une boîte à moustaches. Exécutez le bloc de code ci-dessous pour générer la boîte à moustaches."
      ],
      "metadata": {
        "id": "wHp9fEVID_TS"
      }
    },
    {
      "cell_type": "code",
      "source": [
        "boxplot = donnée.boxplot(column=[\"Calories\"], whis=[0,100])"
      ],
      "metadata": {
        "id": "lTwK0CN3EW5n",
        "colab": {
          "base_uri": "https://localhost:8080/",
          "height": 269
        },
        "outputId": "e42aec20-1a73-4cbb-84f2-b5e843611510"
      },
      "execution_count": null,
      "outputs": [
        {
          "output_type": "display_data",
          "data": {
            "text/plain": [
              "<Figure size 432x288 with 1 Axes>"
            ],
            "image/png": "[encoded data removed]"
          },
          "metadata": {
            "needs_background": "light"
          }
        }
      ]
    },
    {
      "cell_type": "markdown",
      "source": [
        "#### Que peut nous dire cette boîte à moustaches sur la répartition des calories ?\n"
      ],
      "metadata": {
        "id": "fFcB5t12HhnU"
      }
    },
    {
      "cell_type": "markdown",
      "source": [
        "Double-cliquez **ici** pour entrer vos réponses."
      ],
      "metadata": {
        "id": "K9mzNqhAHsP1"
      }
    },
    {
      "cell_type": "markdown",
      "source": [
        "\n",
        "\n",
        "---\n",
        "\n",
        "\n",
        "# Analyse de la corrélation entre deux variables\n",
        "\n",
        "Nous allons créer un graphique en nuage de points en utilisant deux variables de notre jeu de données : les **calories** et les **lipides totales**.\n",
        "\n",
        "## Hypothèse\n",
        "\n",
        "1. Quel type de corrélation existe-t-il entre la quantité de calories et les lipides totales ? Justifiez votre raisonnement.\n",
        "2. Est-ce que la quantité de calories et les lipides totales seront représentées par une ligne de tendance linéaire ou non linéaire ? Justifiez votre raisonnement."
      ],
      "metadata": {
        "id": "amnP0N4aHvjJ"
      }
    },
    {
      "cell_type": "markdown",
      "source": [
        "Double-cliquez **ici** pour entrer vos réponses."
      ],
      "metadata": {
        "id": "VTHpLueYJORQ"
      }
    },
    {
      "cell_type": "markdown",
      "source": [
        "## Génération d'un graphique en nuage de points\n",
        "\n",
        "Exécutez le code ci-dessous pour générer le nuage de points."
      ],
      "metadata": {
        "id": "0TcdmDBeKOTc"
      }
    },
    {
      "cell_type": "code",
      "source": [
        "nuage_de_points = donnée.plot.scatter(x='Total Fat', y='Calories')\n",
        "#can change \"Total Fat\" or \"Calories\" to be other columns in the spreadsheet\n",
        "x = np.array(donnée['Total Lipides'].tolist())\n",
        "y = np.array(donnée['Calories'].tolist())\n",
        "\n",
        "#calculate the trendline\n",
        "z = np.polyfit(x, y, 1) \n",
        "p = np.poly1d(z)\n",
        "\n",
        "nuage_de_points.plot(x,p(x),\"r--\") #plot the trendline\n",
        "\n",
        "ligne_de_tendance = f\"y={z[0]:0.3f}x{z[1]:+0.3f}\" #prints the trendline as y=ax+b\n",
        "print(\"La ligne de tendance de ce nuage de points est\",ligne_de_tendance)"
      ],
      "metadata": {
        "id": "hjSFYg39KSzg",
        "colab": {
          "base_uri": "https://localhost:8080/",
          "height": 301
        },
        "outputId": "a2e01198-4645-4ff3-888e-b42ce342aedc"
      },
      "execution_count": null,
      "outputs": [
        {
          "output_type": "stream",
          "name": "stdout",
          "text": [
            "La ligne de tendance de ce nuage de points est y=15.498x+97.527\n"
          ]
        },
        {
          "output_type": "display_data",
          "data": {
            "text/plain": [
              "<Figure size 432x288 with 1 Axes>"
            ],
            "image/png": "[encoded data removed]"
          },
          "metadata": {
            "needs_background": "light"
          }
        }
      ]
    },
    {
      "cell_type": "markdown",
      "source": [
        "## Questions de consolidation :\n",
        "\n",
        "1. Est-ce qu'il y a des valeurs aberrantes dans les données ? Comment pourraient-elles être expliquées ?\n",
        "2. Rédigez une déclaration qui décrit la tendance. Assurez-vous d'utiliser un langage approprié.\n",
        "3. Utilisez le graphique en nuage de points pour interpoler la quantité de lipides totales si un aliment contient 200 calories.\n",
        "4. Utilisez le graphique en nuage de points pour extrapoler le nombre de calories si la quantité de lipides totales dans l'aliment est de 70.\n",
        "5. Utilisez l'équation de la ligne de tendance pour vérifier vos calculs d'interpolation et d'extrapolation. \n",
        "6. Ces interpolations et extrapolations sont-elles précises ? Pourquoi ou pourquoi pas ? Quels facteurs pourraient influencer la précision de ces prédictions ?\n",
        "7. Est-ce que vos hypothèses initiales sur la ligne de tendance et le type de corrélation étaient correctes ? Expliquez comment vous le savez."
      ],
      "metadata": {
        "id": "6j4shozPMAKP"
      }
    },
    {
      "cell_type": "markdown",
      "source": [
        "Double-cliquez **ici** pour entrer vos réponses."
      ],
      "metadata": {
        "id": "4rlXw-f-OOg-"
      }
    },
    {
      "cell_type": "markdown",
      "source": [
        "\n",
        "\n",
        "---\n",
        "\n",
        "\n",
        "# Dernière matière à réflexion.....\n",
        "\n",
        "Répondez aux questions suivantes :\n",
        "\n",
        "Essayez de trouver des aliments qui ont des tailles de portion similaires, mais des calories différentes. Quels facteurs pourraient influencer la quantité de calories d'un aliment ?\n",
        "Pensez-vous qu'il y aurait une différence dans l'analyse des données pour d'autres restaurants de restauration rapide ? Pourquoi ou pourquoi pas ?\n",
        "Pensez-vous qu'il pourrait exister d'autres corrélations entre d'autres variables ? Essayez de changer le code dans la section **Génération d'un graphique en nuage de points** en utilisant d'autres colonnes de données."
      ],
      "metadata": {
        "id": "-ZdXMTY26l-W"
      }
    },
    {
      "cell_type": "markdown",
      "source": [
        "Double-cliquez **ici** pour entrer vos réponses."
      ],
      "metadata": {
        "id": "aIfH8IEXONYF"
      }
    }
  ]
}