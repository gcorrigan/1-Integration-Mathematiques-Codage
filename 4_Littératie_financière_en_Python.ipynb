{
  "nbformat": 4,
  "nbformat_minor": 0,
  "metadata": {
    "colab": {
      "provenance": [],
      "include_colab_link": true
    },
    "kernelspec": {
      "name": "python3",
      "display_name": "Python 3"
    },
    "language_info": {
      "name": "python"
    }
  },
  "cells": [
    {
      "cell_type": "markdown",
      "metadata": {
        "id": "view-in-github",
        "colab_type": "text"
      },
      "source": [
        "<a href=\"https://colab.research.google.com/github/gcorrigan/Integration-Mathematiques-Codage/blob/main/4_Litt%C3%A9ratie_financi%C3%A8re_en_Python.ipynb\" target=\"_parent\"><img src=\"https://colab.research.google.com/assets/colab-badge.svg\" alt=\"Open In Colab\"/></a>"
      ]
    },
    {
      "cell_type": "markdown",
      "source": [
        "# Budgétisation et littératie financière <img src=\"https://i.imgur.com/qUSxW7s.png\" height=45 width=45 align=right>\n",
        "\n",
        "## Les objectifs d’apprentissage\n",
        "- Rechercher et appliquer des informations sur le coût de la vie au Canada\n",
        "- Équilibrer et apporter des changements aux budgets\n",
        "- Comprendre comment les changements des taux d'intérêt et des périodes d'investissement influencent les décisions financières.\n",
        "\n",
        "## Les critères de réussite\n",
        "- Je peux utiliser des données de recherche pour prendre des décisions financières.\n",
        "- Je peux évaluer divers investissements pour déterminer le meilleur résultat d'épargne.\n",
        "- Je peux décrire comment le changement de revenus et/ou de dépenses impacte mes économies.\n",
        "- Je peux interpréter la sortie du code pour déterminer les informations budgétaires et les investissements.\n",
        "---"
      ],
      "metadata": {
        "id": "c-TZV7fp1KwL"
      }
    },
    {
      "cell_type": "markdown",
      "source": [
        "# Partie 1 : Les revenus et les dépenses \n",
        "\n",
        "Pour cette activité, vous allez effectuer des recherches sur le coût de la vie dans différentes régions du Canada. Vous allez créer un budget simple qui déterminera combien d'argent vous pouvez économiser (ou devez emprunter) à la fin de l'année.\n",
        "\n",
        "\n",
        "---\n",
        "\n",
        "\n",
        "## Étape 1 : Où habiter ?<img src=\"https://images.unsplash.com/photo-1566475922470-2740a2d7e17b?ixlib=rb-4.0.3&ixid=MnwxMjA3fDB8MHxwaG90by1wYWdlfHx8fGVufDB8fHx8&auto=format&fit=crop&w=870&q=80\" align=right height=250 width=300>\n",
        "\n",
        "Examinez le <a href=\"https://rentals.ca/fr/rapport-de-logement-national\">Rapport de logement</a> par *Rentals.ca*, qui indique les prix moyens de location d'un appartement d'une ou deux chambres à coucher à travers le Canada.\n",
        "\n",
        "Choisissez parmi la liste de villes où vous aimeriez vivre. Vous devriez tenir compte de l'emplacement, du prix et prendre en considération d'autres facteurs tels que la proximité de la famille ou la connaissance préalable de l'emplacement.\n",
        "\n",
        "### Exécutez le bloc de code ci-dessous pour entrer le coût du loyer dans votre budget :"
      ],
      "metadata": {
        "id": "XwX2WbTSj_Q6"
      }
    },
    {
      "cell_type": "code",
      "source": [
        "print(\"Appuyez sur «Entrée» pour soumettre chaque réponse.\\n\\n\")\n",
        "lieu = input(\"Dans quelle ville choisissez-vous d'habiter ? \")\n",
        "loyer = float(input(\"Quel est le loyer d'un appartement avec 1 chambre à coucher par mois dans la ville que vous choisissez ? (entrez le chiffre sans virgule) \"))"
      ],
      "metadata": {
        "id": "QXgkUREJnOsp"
      },
      "execution_count": null,
      "outputs": []
    },
    {
      "cell_type": "markdown",
      "source": [
        "\n",
        "---\n",
        "\n",
        "## Étape 2: Revenu - Choisissez un emploi ! <img src=\"https://images.unsplash.com/photo-1628348068343-c6a848d2b6dd?ixlib=rb-4.0.3&ixid=MnwxMjA3fDB8MHxwaG90by1wYWdlfHx8fGVufDB8fHx8&auto=format&fit=crop&w=870&q=80\" align=\"right\" width=250 height=250>\n",
        "\n",
        "Pour payer le loyer, vous devrez trouver un emploi ! Utilisez le site Web <a href=\"https://www.jobillico.com/blog/salaire-canada-2021/\">*Jobillico*</a> pour choisir un emploi. Trouvez la section **\"Salaire moyen annuel au Canada par profession\"** et faites votre sélection. \n",
        "\n",
        "Ensuite, vous trouverez le **salaire net** en utilisant <a href=\"https://ca.talent.com/fr/tax-calculator\"> l'outil de calcul d'impôt</a>.\n",
        "\n",
        "Entrez le **salaire annuel brut** et sélectionnez la province où vous avez choisi de vivre.\n",
        "\n",
        "### Exécutez le bloc de code ci-dessous pour prendre en compte ce revenu dans votre budget :"
      ],
      "metadata": {
        "id": "s3RA8MfvnnsZ"
      }
    },
    {
      "cell_type": "code",
      "source": [
        "print(\"Entrez les informations suivantes : \\n\\n\")\n",
        "carriere = input(\"Quelle carrière avez-vous choisissez ? \")\n",
        "salaireBrut = float(input(\"Quel est le salaire annuel (brut) de cet emploi ? $\"))\n",
        "salaireNet = float(input(\"Quel est le salaire net selon le calculateur d'impôt ? $\"))\n",
        "salaireMensuel = salaireNet / 12.0\n",
        "print(f\"\\n\\nVotre salaire mensuel est` ${salaireMensuel:,.2f}\")"
      ],
      "metadata": {
        "id": "PC9VzTIXp621"
      },
      "execution_count": null,
      "outputs": []
    },
    {
      "cell_type": "markdown",
      "source": [
        "\n",
        "\n",
        "---\n",
        "\n",
        "\n",
        "\n",
        "## Étape 3: Dépenses  <img src=\"https://openclipart.org/image/800px/31207\" align=\"right\" height=100 width=75>\n",
        "\n",
        "Selon le <a href=\"https://cdn.dal.ca/content/dam/dalhousie/pdf/sites/agri-food/30083%20Food%20Price%20Report%20FR%20-%20Digital.pdf\">Rapport Annuel Sur Les Prix Alimentaires 2023</a>, **une personne âgée de 19 à 30 ans dépense en moyenne 316 $ pour la nourriture chaque mois**. Tenez compte de cette dépense dans vos calculs.\n",
        "\n",
        "Budgétisez également les éléments suivants, le coût est donné par mois :\n",
        "\n",
        "\n",
        "*   Télécommunication (internet)  : 80$\n",
        "\n",
        "*   Objets divers (par exemple, vêtements, cadeaux, loisirs et divertissements): 200$\n",
        "\n",
        "### Exécutez le bloc de code ci-dessous pour prendre en compte ces dépenses dans votre budget :"
      ],
      "metadata": {
        "id": "yXU8OYHVqPD3"
      }
    },
    {
      "cell_type": "code",
      "source": [
        "coûtDeLaNourriture = 316.0 # modifier cette valeur pour changer le coût de la nourriture\n",
        "coûtAnnuelDeLaNourriture = coûtDeLaNourriture * 12\n",
        "\n",
        "coûtDInternet = 80.0 # modifier cette valeur pour changer le coût d'Internet\n",
        "coûtAnnuelDInternet = coûtDInternet * 12\n",
        "\n",
        "coûtDivers = 200.0 # modifier cette valeur pour changer les coûts divers\n",
        "coûtAnnuelDivers = coûtDivers * 12"
      ],
      "metadata": {
        "id": "GHhCe8z7s-UQ"
      },
      "execution_count": null,
      "outputs": []
    },
    {
      "cell_type": "markdown",
      "source": [
        "\n",
        "\n",
        "---\n",
        "\n",
        "## Étape 4 : Total à la fin du mois\n",
        "\n",
        "Maintenant que vous avez pris en compte tous vos revenus et dépenses mensuels, nous allons calculer combien d'argent il reste à la fin de chaque mois.\n",
        "\n",
        "## Exécutez le bloc de code ci-dessous pour lancer la simulation :"
      ],
      "metadata": {
        "id": "MveVLEBNu6t4"
      }
    },
    {
      "cell_type": "code",
      "source": [
        "reste = salaireMensuel - loyer - coûtDeLaNourriture - coûtDInternet - coûtDivers\n",
        "\n",
        "montantAnnuel = reste * 12\n",
        "\n",
        "if reste < 0:\n",
        "  print(f\"Le montant total à la fin de chaque mois est de -{abs(reste):,.2f}$\")\n",
        "  print(f\"Le montant total à la fin de chaque année est de -{abs(montantAnnuel):,.2f}$\")\n",
        "else:\n",
        "  print(f\"Le montant total à la fin de chaque mois est de {reste:,.2f}$\")\n",
        "  print(f\"Le montant total à la fin de chaque année est de {montantAnnuel:,.2f}$\")\n",
        "\n"
      ],
      "metadata": {
        "id": "1DFKU6VdzhSs"
      },
      "execution_count": null,
      "outputs": []
    },
    {
      "cell_type": "markdown",
      "source": [
        "### La réponse ci-dessus est-elle positive ou négative?\n",
        "\n",
        "Un montant **positif** signifie que vous aurez des économies à la fin de chaque mois. Si votre montant restant est positif, continuez à la partie 2 : Investir vos économies.\n",
        "\n",
        "Un montant **négatif** signifie que vous n'aurez **aucune** économie à la fin de chaque mois. En fait, vous n'aurez pas assez d'argent pour couvrir toutes vos dépenses.\n",
        "\n",
        "Si votre montant est négatif, ajustez certaines des valeurs précédentes, telles que le loyer, le salaire ou d'autres dépenses. Réfléchissez à la façon dont la modification de ces valeurs augmentera vos économies chaque mois."
      ],
      "metadata": {
        "id": "-6enmyeU0XPN"
      }
    },
    {
      "cell_type": "markdown",
      "source": [
        "\n",
        "\n",
        "---\n",
        "\n",
        "# Partie 2 : Investissement des économies\n",
        "\n",
        "Afin de vous préparer à l'éducation post-secondaire, vous prendrez vos économies totales à la fin de l'année et les déposerez dans un certificat de placement garanti (CPG). Considérez les trois options qui s'offrent à vous :\n",
        "\n",
        "| Option 1            | Option 2               | Option 3           |\n",
        "| ------------------- | ---------------------- | ------------------ |\n",
        "| Taux d'intérêt : 3,0 %      | Taux d'intérêt : 5,0 %         | Taux d'intérêt : 4,0 %     |\n",
        "| Durée : 3 ans       | Durée : 1 an           | Durée : 2 ans      |\n",
        "\n",
        "En utilisant les informations fournies dans le tableau ci-dessus, quelle option choisiriez-vous?\n",
        "\n",
        "<img src=\"https://openclipart.org/image/800px/312024\" align=right height=250 width=250>\n",
        "\n",
        "**Rappel** : La formule des intérêts simples :\n",
        "\n",
        "# $\\ {Cn = C0(1 + n × i )}$\n",
        "\n",
        "\n",
        "Cn\t=\tle capital accumulé\n",
        "\n",
        "C0\t=\tle capital initial\n",
        "\n",
        "n\t=\tla durée (c'est-à-dire le nombre de périodes)\n",
        "\n",
        "i\t=\tle taux d'intérêt simple\n",
        "\n",
        "### Exécutez le bloc de code ci-dessous pour simuler le calcul pour chaque option :"
      ],
      "metadata": {
        "id": "71Yaptn32U0I"
      }
    },
    {
      "cell_type": "code",
      "source": [
        "for i in range(1, 4):\n",
        "  print(f\"Exécution du calcul pour l'Option {i}...\")\n",
        "\n",
        "  capitalInitial = montantAnnuel # épargne totale à la fin de l'année à investir\n",
        "  taux = float(input(\"Entrez le taux d'intérêt sous forme décimale : \"))\n",
        "  durée = int(input(\"Entrez la durée en années : \"))\n",
        "  capitalAccumulé = capitalInitial * (1 + durée * taux ) # formule d'intérêts simples composés\n",
        "\n",
        "  print(f\"Le capital accumulé à la fin de la période sera de {capitalAccumulé:,.2f} $ \\n\\n\")\n",
        "\n"
      ],
      "metadata": {
        "id": "_8u8sEZa4V8M"
      },
      "execution_count": null,
      "outputs": []
    },
    {
      "cell_type": "markdown",
      "source": [
        "### En fonction des calculs ci-dessus, quelle option choisiriez-vous ?"
      ],
      "metadata": {
        "id": "JXtQ8mlEAiKV"
      }
    },
    {
      "cell_type": "markdown",
      "source": [
        "\n",
        "D'après les calculs ci-dessus, quelle option choisiriez-vous ?"
      ],
      "metadata": {
        "id": "QwDU1G3-Auwq"
      }
    },
    {
      "cell_type": "markdown",
      "source": [
        "\n",
        "\n",
        "---\n",
        "\n",
        "\n",
        "## Partie 3: Consolidation\n",
        "\n",
        "Répondez aux questions suivantes :\n",
        "\n",
        "1. Quelles mesures pouvez-vous prendre pour augmenter vos économies à la fin de chaque mois ? Expliquez votre raisonnement.\n",
        "2. Quel est l'effet du changement de la durée sur un investissement ? Changer le taux d'intérêt ?\n",
        "3. Si votre montant initial d'épargne était négatif, expliquez quels facteurs vous avez dû changer pour atteindre un montant positif. Si votre montant initial d'épargne était positif, discutez des décisions que vous avez prises pour atteindre ce résultat. Votre réponse devrait inclure des détails sur l'endroit où vous avez choisi de vivre, le travail que vous avez sélectionné, etc.\n",
        "4. Y a-t-il quelque chose qui vous a surpris ou qui vous a marqué à propos des coûts de la vie ? Vos économies étaient-elles aussi élevées que prévu ? Pourquoi ou pourquoi pas ?\n",
        "5. En fonction du travail que vous avez sélectionné, quelle formation ou quel apprentissage supplémentaire devriez-vous obtenir ? Décrivez brièvement les étapes requises si vous vouliez obtenir ce travail dans la vie réelle.\n"
      ],
      "metadata": {
        "id": "LpPYkIdzBF2K"
      }
    },
    {
      "cell_type": "markdown",
      "source": [
        "Double-cliquez **ici** pour entrer vos réponses."
      ],
      "metadata": {
        "id": "lkVju617Bxm7"
      }
    }
  ]
}