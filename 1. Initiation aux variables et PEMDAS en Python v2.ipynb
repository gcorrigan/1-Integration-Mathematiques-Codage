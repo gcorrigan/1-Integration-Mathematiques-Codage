{
  "nbformat": 4,
  "nbformat_minor": 0,
  "metadata": {
    "colab": {
      "provenance": [],
      "authorship_tag": "ABX9TyMbqDmxHYB4fD5Pq4OIdW8o",
      "include_colab_link": true
    },
    "kernelspec": {
      "name": "python3",
      "display_name": "Python 3"
    },
    "language_info": {
      "name": "python"
    }
  },
  "cells": [
    {
      "cell_type": "markdown",
      "metadata": {
        "id": "view-in-github",
        "colab_type": "text"
      },
      "source": [
        "<a href=\"https://colab.research.google.com/github/eccrawford/Integration-Mathematiques-Codage/blob/main/1.%20Initiation%20aux%20variables%20et%20PEMDAS%20en%20Python%20v2.ipynb\" target=\"_parent\"><img src=\"https://colab.research.google.com/assets/colab-badge.svg\" alt=\"Open In Colab\"/></a>"
      ]
    },
    {
      "cell_type": "markdown",
      "source": [
        "# 1.Initiation aux variables et PEMDAS en python <img src=\"https://i.imgur.com/qUSxW7s.png\" height=45 width=45 align=right>\n",
        "\n",
        "## Les objectifs d’apprentissage\n",
        "*   Utiliser Python pour définir et utiliser des variables dans des expressions mathématiques simples.\n",
        "*   Comprendre comment Python peut être utilisé pour simplifier et évaluer des expressions mathématiques plus complexes.\n",
        "\n",
        "## Les critères de réussite\n",
        "<p>Je sais que je réussis quand :</p>\n",
        "<ul>\n",
        "<li>Je peux définir et utiliser des variables en Python dans des expressions mathématiques simples.</li>\n",
        "<li>Je peux tester et évaluer des expressions mathématiques en utilisant Python.</li>\n",
        "</ul>\n",
        "\n",
        "---\n",
        "# Activité 1 : Le PEMDAS en Python <img src=\"https://i.imgur.com/qUSxW7s.png\" height=45 width=45 align=right>\n",
        "---\n",
        "\n",
        "## La grande question : Est-ce que Python comprend le PEMDAS?\n",
        "\n",
        "Pensez à l'expression suivante : \n",
        "\n",
        "$\\ {10 × (-1) + 4}$\n",
        "\n",
        "\n",
        "Sur une feuille de papier, utilisez n'importe quelle stratégie pour **évaluer** cette expression.\n",
        "\n",
        "Une fois que vous avez trouvé la bonne réponse, essayez d'exécuter le bloc de code suivant :"
      ],
      "metadata": {
        "id": "ag6R5X5cWcnU"
      }
    },
    {
      "cell_type": "code",
      "source": [
        "10 * (-1) + 4"
      ],
      "metadata": {
        "id": "flxsnRI5WhS7"
      },
      "execution_count": null,
      "outputs": []
    },
    {
      "cell_type": "markdown",
      "source": [
        "**REMARQUE IMPORTANTE :** En Python, nous utilisons un astérisque * à la place du symbole de multiplication ×\n",
        "\n",
        "Est-ce que Python a donné la même réponse que celle calculée ? Si ce n'est pas le cas, vérifiez votre travail !\n",
        "\n",
        "Essayez d'évaluer cette expression sur papier :\n",
        "\n",
        "$\\ {5^2 + (-2) × 3}$\n",
        "\n",
        "Une fois que vous avez trouvé la réponse, exécutez le bloc de code ci-dessous. Vérifiez que Python vous donne la même réponse que vous avez calculée :"
      ],
      "metadata": {
        "id": "w4OK1EJxWjkG"
      }
    },
    {
      "cell_type": "code",
      "source": [
        "5**2 + (-2) * 3"
      ],
      "metadata": {
        "id": "tnHfXkSkWmUL"
      },
      "execution_count": null,
      "outputs": []
    },
    {
      "cell_type": "markdown",
      "source": [
        "**REMARQUE IMPORTANTE :** En Python, nous utilisons un double astérisque ** pour représenter un exposant !\n",
        "\n",
        "# D'après les résultats ci-dessus, est-ce que le Python comprend PEMDAS ?\n",
        "\n",
        "\n",
        "**Python a quelques limites.** Par exemple, en mathématiques, nous utilisons des parenthèses dans une expression comme 2(3) pour représenter 2 × 3. Tapez ``` 2(3) ``` dans le bloc de code ci-dessous et exécutez-le :"
      ],
      "metadata": {
        "id": "bVe6DsaZWomu"
      }
    },
    {
      "cell_type": "code",
      "source": [],
      "metadata": {
        "id": "L6FLxCaEWqhf"
      },
      "execution_count": null,
      "outputs": []
    },
    {
      "cell_type": "markdown",
      "source": [
        "Vous devriez obtenir une erreur ! **En Python, vous devez utiliser l'astérisque (*) pour multiplier les nombres.**\n",
        "\n",
        "Les symboles suivants sont utilisés pour exprimer les opérations arithmétiques de base en Python :\n",
        "\n",
        "\n",
        "|Opérateur |  Description | Exemple  | \n",
        "|---------|--------------|----------|\n",
        "|   +     | **Addition**. Additionne des nombres ou des variables ensemble. |5 + 2 (= 7) <br>x + y + z|\n",
        "|   -     |**Soustraction**. Soustrait des nombres ou des variables ensemble. |3 - 1 (= 2)<br>a - b |\n",
        "| \\*       | **Multiplication**. Multiplie des nombres ou des variables ensemble. |n* m * k<br>10 \\* 2 (= 20) |\n",
        "| /       | **Division**. Divise des nombres ou des variables ensemble. |c / d <br>9 / 3 (= 3.0) |\n",
        "| \\*\\*     | **Exponentiation**. Multiplier le premier nombre par lui-même le nombre de fois donné par le deuxième nombre. |5 ** 2 (= 25) <br>x ** y |\n",
        "\n",
        "\n"
      ],
      "metadata": {
        "id": "WXaPl-EbWtXC"
      }
    },
    {
      "cell_type": "markdown",
      "source": [
        "Essayez d'évaluer les expressions suivantes sur papier. Vérifiez ensuite vos réponses dans le bloc de code ci-dessous en utilisant les opérateurs Python appropriés.\n",
        "\n",
        "### $\\ {-3 + 6 + (-9)}$\n",
        "### $\\ {9 × (3+(-2 × 3))}$\n",
        "### $\\ {-4 + (-9) ÷ (-1)}$\n",
        "\n",
        "## Tapez les expressions dans les blocs de code ci-dessous et exécutez-les une à la fois :"
      ],
      "metadata": {
        "id": "RQt7-UtsWzK4"
      }
    },
    {
      "cell_type": "code",
      "source": [],
      "metadata": {
        "id": "_vA0pQbRW04d"
      },
      "execution_count": null,
      "outputs": []
    },
    {
      "cell_type": "code",
      "source": [],
      "metadata": {
        "id": "6NlQ0FGoW1Mj"
      },
      "execution_count": null,
      "outputs": []
    },
    {
      "cell_type": "code",
      "source": [],
      "metadata": {
        "id": "7voy5UiLW1Zy"
      },
      "execution_count": null,
      "outputs": []
    },
    {
      "cell_type": "markdown",
      "source": [
        "---\n",
        "\n",
        "# Activité 2 : Les variables en Python - MTH1W <img src=\"https://i.imgur.com/qUSxW7s.png\" height=45 width=45 align=right>\n",
        "\n",
        "---\n",
        "\n",
        "# La grande question : Comment utilisons-nous les variables en Python ?\n",
        "\n",
        "La définition d'une variable en Python est très similaire à la façon de définir une variable en mathématiques. \n",
        "\n",
        "Essayez d'exécuter le bloc de code suivant :"
      ],
      "metadata": {
        "id": "pU-txkI_Jnh5"
      }
    },
    {
      "cell_type": "code",
      "source": [
        "a = 5"
      ],
      "metadata": {
        "id": "qARAMsstJzOG"
      },
      "execution_count": null,
      "outputs": []
    },
    {
      "cell_type": "markdown",
      "source": [
        "**Rien ne s'est passé!** C'est bon, Python se souviendra que vous avez défini une variable appelée ``` a ``` et que vous la définissez égale à 5.\n",
        "\n",
        "Définissons une autre variable, appelée ``` b ```, et définissez-le égal à 2. Exécutez le bloc de code ci-dessous :"
      ],
      "metadata": {
        "id": "ii_1Db85J3cQ"
      }
    },
    {
      "cell_type": "code",
      "source": [],
      "metadata": {
        "id": "3vdW4AwkJ_Th"
      },
      "execution_count": null,
      "outputs": []
    },
    {
      "cell_type": "markdown",
      "source": [
        "**En Python, les noms de variables peuvent être plus descriptifs que les lettres standard comme ```a, b, x ``` ou ``` y ```.**\n",
        "<img src=\"https://www.nickzom.org/blog/wp-content/uploads/2018/12/rectangle.png\" height=150 width=300 align=right>\n",
        "\n",
        "Voir le rectangle donné avec une ``` longueur = 9 cm ``` et ``` largeur = 4 cm```.\n",
        " \n",
        "Quelle est la superficie du rectangle ? Notez la formule et n'oubliez pas de montrer vos calculs."
      ],
      "metadata": {
        "id": "QEP-3a2oJ7vR"
      }
    },
    {
      "cell_type": "markdown",
      "source": [
        "Tapez les lignes suivants dans le bloc de code ci-dessous :\n",
        "\n",
        "\n",
        "**longueur = 9**\n",
        "\n",
        "Appuyez sur 'Entrée':\n",
        "\n",
        "**largeur = 4**\n",
        "\n",
        "#Définissez les variables de longueur et de largeur dans le bloc de code ci-dessous.\n",
        "N'oubliez pas d'exécuter le code !\n",
        "\n",
        "\n",
        "\n"
      ],
      "metadata": {
        "id": "HUNR86wSKDG8"
      }
    },
    {
      "cell_type": "code",
      "source": [],
      "metadata": {
        "id": "eceyaA9YKFFM"
      },
      "execution_count": null,
      "outputs": []
    },
    {
      "cell_type": "markdown",
      "source": [
        "Nous venons de définir deux variables, '''longueur''' et '''largeur''', et leur donnons les valeurs 9 et 4. Nous pouvons utiliser ces variables de la même manière que dans l'exemple précédent et les multiplier entre elles.\n",
        "\n",
        "#Tapez la ligne suivant dans le bloc de code ci-dessous :\n",
        "\n",
        "\n",
        "**longueur * largeur**\n",
        "\n",
        "\n",
        "N'oubliez pas d'exécuter le code !"
      ],
      "metadata": {
        "id": "hJfJRhKIVTsF"
      }
    },
    {
      "cell_type": "code",
      "source": [],
      "metadata": {
        "id": "2SEfbGbhVVYU"
      },
      "execution_count": null,
      "outputs": []
    },
    {
      "cell_type": "markdown",
      "source": [
        "**Essayez ce qui suit :** Calculez sur papier, la superficie des formes suivantes. Utilisez ensuite Python pour définir les variables (nommez-les de manière appropriée) et vérifiez ces calculs. Utilisez le bloc de code vide ci-dessous pour définir vos variables et calculer la superficie de chaque forme. N'oubliez pas d'exécuter le code !\n",
        "\n",
        "<img src=\"https://i.imgur.com/bd8JxMz.png\" height=250>\n",
        "\n",
        "## Tapez votre code ci-dessous :"
      ],
      "metadata": {
        "id": "zWxOWiooKMC7"
      }
    },
    {
      "cell_type": "code",
      "source": [],
      "metadata": {
        "id": "LVb01FIbLpkf"
      },
      "execution_count": null,
      "outputs": []
    },
    {
      "cell_type": "markdown",
      "source": [
        "**Avez-vous remarqué comment vous pouviez redéfinir les variables à chaque fois ?** Par exemple, même si nous avons défini précédemment;\n",
        "\n",
        "``` longueur = 9 ```   et ``` largeur = 4 ```\n",
        "\n",
        "\n",
        "nous avons redéfini les variables de longueur et de largeur pour calculer l'aire d'un rectangle différent."
      ],
      "metadata": {
        "id": "VCjMcjVqLtTy"
      }
    },
    {
      "cell_type": "markdown",
      "source": [
        "--- \n",
        "# Un défi supplémentaire - Le PEMDAS plus complexe\n",
        "\n",
        "Nous pouvons utiliser des variables pour nous aider à évaluer des expressions plus complexes. À l'aide des règles PEMDAS, calculez vous-même ce qui suit. Vous pouvez utiliser une calculatrice, mais il est très important d'utiliser correctement les parenthèses pour cette question !\n",
        "\n",
        "## $\\frac{3 - (3 × (2+3))}{(-5)+3^2}$\n",
        "(La réponse est -3)"
      ],
      "metadata": {
        "id": "kRMWwLowLvK7"
      }
    },
    {
      "cell_type": "markdown",
      "source": [
        "\n",
        "## Utilisez Python pour évaluer l'expression : \n",
        "Définir deux variables appelées `numérateur` et `dénominateur`\n",
        "dans le bloc de code ci-dessous. Définissez la variable `numérateur` égale au numérateur dans cette question. Assurez-vous d'utiliser les opérateurs Python appropriés ! Créez une nouvelle ligne en appuyant sur la touche 'Entrée' et faites de même pour le dénominateur.\n",
        "\n",
        "Faites une autre nouvelle ligne, puis tapez,\n",
        "\n",
        "\n",
        "\n",
        "numérateur / dénominateur \n"
      ],
      "metadata": {
        "id": "ADzQdE6YVmlc"
      }
    },
    {
      "cell_type": "code",
      "source": [],
      "metadata": {
        "id": "mWSB8GcGVpWZ"
      },
      "execution_count": null,
      "outputs": []
    },
    {
      "cell_type": "markdown",
      "source": [
        "Vérifiez que l'exécution du bloc de code ci-dessus vous donne -3.0, la bonne réponse.\n",
        "\n",
        "\n",
        "---\n",
        "\n",
        "\n",
        "# Renforcer votre apprentissages : Comment est-ce que les variables Python peuvent être utilisées pour évaluer des expressions mathématiques ?\n",
        "Votre réponse doit inclure au moins 2 façons."
      ],
      "metadata": {
        "id": "598SPoFFLxiC"
      }
    },
    {
      "cell_type": "markdown",
      "source": [],
      "metadata": {
        "id": "bNdXttioLz4o"
      }
    }
  ]
}